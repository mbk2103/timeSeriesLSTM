{
 "cells": [
  {
   "cell_type": "code",
   "execution_count": 1,
   "id": "98718855",
   "metadata": {},
   "outputs": [],
   "source": [
    "import pandas as pd\n",
    "import numpy as np\n",
    "import matplotlib.pyplot as plt\n",
    "import tensorflow as tf\n",
    "from tensorflow.keras.layers import Dense, LSTM\n",
    "from tensorflow.keras.models import Sequential\n",
    "from sklearn.preprocessing import MinMaxScaler"
   ]
  },
  {
   "cell_type": "code",
   "execution_count": 2,
   "id": "46fc7346",
   "metadata": {},
   "outputs": [
    {
     "data": {
      "text/html": [
       "<div>\n",
       "<style scoped>\n",
       "    .dataframe tbody tr th:only-of-type {\n",
       "        vertical-align: middle;\n",
       "    }\n",
       "\n",
       "    .dataframe tbody tr th {\n",
       "        vertical-align: top;\n",
       "    }\n",
       "\n",
       "    .dataframe thead th {\n",
       "        text-align: right;\n",
       "    }\n",
       "</style>\n",
       "<table border=\"1\" class=\"dataframe\">\n",
       "  <thead>\n",
       "    <tr style=\"text-align: right;\">\n",
       "      <th></th>\n",
       "      <th>Month</th>\n",
       "      <th>#Passengers</th>\n",
       "    </tr>\n",
       "  </thead>\n",
       "  <tbody>\n",
       "    <tr>\n",
       "      <th>0</th>\n",
       "      <td>1949-01</td>\n",
       "      <td>112</td>\n",
       "    </tr>\n",
       "    <tr>\n",
       "      <th>1</th>\n",
       "      <td>1949-02</td>\n",
       "      <td>118</td>\n",
       "    </tr>\n",
       "    <tr>\n",
       "      <th>2</th>\n",
       "      <td>1949-03</td>\n",
       "      <td>132</td>\n",
       "    </tr>\n",
       "    <tr>\n",
       "      <th>3</th>\n",
       "      <td>1949-04</td>\n",
       "      <td>129</td>\n",
       "    </tr>\n",
       "    <tr>\n",
       "      <th>4</th>\n",
       "      <td>1949-05</td>\n",
       "      <td>121</td>\n",
       "    </tr>\n",
       "  </tbody>\n",
       "</table>\n",
       "</div>"
      ],
      "text/plain": [
       "     Month  #Passengers\n",
       "0  1949-01          112\n",
       "1  1949-02          118\n",
       "2  1949-03          132\n",
       "3  1949-04          129\n",
       "4  1949-05          121"
      ]
     },
     "execution_count": 2,
     "metadata": {},
     "output_type": "execute_result"
    }
   ],
   "source": [
    "data = pd.read_csv('AirPassengers.csv')\n",
    "data.head()"
   ]
  },
  {
   "cell_type": "code",
   "execution_count": 3,
   "id": "52311d2c",
   "metadata": {},
   "outputs": [],
   "source": [
    "data.rename(columns={'#Passengers':'Passengers'}, inplace = True)\n",
    "data = data['Passengers']"
   ]
  },
  {
   "cell_type": "code",
   "execution_count": 4,
   "id": "8397bcdb",
   "metadata": {},
   "outputs": [
    {
     "data": {
      "text/plain": [
       "pandas.core.series.Series"
      ]
     },
     "execution_count": 4,
     "metadata": {},
     "output_type": "execute_result"
    }
   ],
   "source": [
    "type(data)"
   ]
  },
  {
   "cell_type": "code",
   "execution_count": 5,
   "id": "599614de",
   "metadata": {},
   "outputs": [
    {
     "data": {
      "text/plain": [
       "0      112\n",
       "1      118\n",
       "2      132\n",
       "3      129\n",
       "4      121\n",
       "      ... \n",
       "139    606\n",
       "140    508\n",
       "141    461\n",
       "142    390\n",
       "143    432\n",
       "Name: Passengers, Length: 144, dtype: int64"
      ]
     },
     "execution_count": 5,
     "metadata": {},
     "output_type": "execute_result"
    }
   ],
   "source": [
    "data"
   ]
  },
  {
   "cell_type": "code",
   "execution_count": 6,
   "id": "446c2d19",
   "metadata": {},
   "outputs": [],
   "source": [
    "data = np.array(data).reshape(-1, 1)"
   ]
  },
  {
   "cell_type": "code",
   "execution_count": 7,
   "id": "f23b5f82",
   "metadata": {},
   "outputs": [
    {
     "data": {
      "text/plain": [
       "numpy.ndarray"
      ]
     },
     "execution_count": 7,
     "metadata": {},
     "output_type": "execute_result"
    }
   ],
   "source": [
    "type(data)"
   ]
  },
  {
   "cell_type": "code",
   "execution_count": 8,
   "id": "3ded0de2",
   "metadata": {},
   "outputs": [
    {
     "data": {
      "image/png": "[encoded data removed]",
      "text/plain": [
       "<Figure size 432x288 with 1 Axes>"
      ]
     },
     "metadata": {
      "needs_background": "light"
     },
     "output_type": "display_data"
    }
   ],
   "source": [
    "#let's plot our data\n",
    "plt.plot(data)\n",
    "plt.show()"
   ]
  },
  {
   "cell_type": "markdown",
   "id": "bbbb741f",
   "metadata": {},
   "source": [
    "## Scaling"
   ]
  },
  {
   "cell_type": "code",
   "execution_count": 9,
   "id": "78815afa",
   "metadata": {},
   "outputs": [],
   "source": [
    "scaler = MinMaxScaler()\n",
    "data = scaler.fit_transform(data)"
   ]
  },
  {
   "cell_type": "markdown",
   "id": "0f46b306",
   "metadata": {},
   "source": [
    "## Train, Test Split"
   ]
  },
  {
   "cell_type": "code",
   "execution_count": 10,
   "id": "5cc1bc21",
   "metadata": {},
   "outputs": [
    {
     "data": {
      "text/plain": [
       "144"
      ]
     },
     "execution_count": 10,
     "metadata": {},
     "output_type": "execute_result"
    }
   ],
   "source": [
    "len(data)"
   ]
  },
  {
   "cell_type": "code",
   "execution_count": 11,
   "id": "3abdf6de",
   "metadata": {},
   "outputs": [],
   "source": [
    "train = data[0:100,:] # 100 train data\n",
    "test = data[100:,:]  #44 test data"
   ]
  },
  {
   "cell_type": "code",
   "execution_count": 12,
   "id": "2c62c49a",
   "metadata": {},
   "outputs": [],
   "source": [
    "def get_data(data, steps):\n",
    "    dataX = []\n",
    "    dataY = []\n",
    "    for i in range(len(data)-steps-1):\n",
    "        a = data[i:(i+steps), ]\n",
    "        dataX.append(a)\n",
    "        dataY.append(data[i+steps, 0])\n",
    "    return np.array(dataX), np.array(dataY)"
   ]
  },
  {
   "cell_type": "code",
   "execution_count": 13,
   "id": "7549dacc",
   "metadata": {},
   "outputs": [],
   "source": [
    "steps = 2"
   ]
  },
  {
   "cell_type": "markdown",
   "id": "9df4dd0d",
   "metadata": {},
   "source": [
    "## Training and Testing"
   ]
  },
  {
   "cell_type": "code",
   "execution_count": 14,
   "id": "22efec83",
   "metadata": {},
   "outputs": [],
   "source": [
    "X_train, y_train = get_data(train, steps)\n",
    "X_test, y_test = get_data(test, steps)"
   ]
  },
  {
   "cell_type": "code",
   "execution_count": 15,
   "id": "d9683926",
   "metadata": {},
   "outputs": [],
   "source": [
    "#We are reshaping our datasets for use in LSTM model.\n",
    "X_train = np.reshape(X_train, (X_train.shape[0], 1, X_train.shape[1]))\n",
    "X_test = np.reshape(X_test, (X_test.shape[0], 1, X_test.shape[1]))"
   ]
  },
  {
   "cell_type": "code",
   "execution_count": 16,
   "id": "c5cc452d",
   "metadata": {},
   "outputs": [],
   "source": [
    "'''\n",
    "We will use a Sequential Model with 2 hidden layers\n",
    "Instead of neurons, LSTM networks have memory blocks that are connected through layers.\n",
    "The default sigmoid activation function is used for the LSTM blocks.\n",
    "'''\n",
    "model = Sequential()\n",
    "model.add(LSTM(128, input_shape = (1 ,steps))) #This is our first hidden layer with 128 memory blocks.\n",
    "model.add(Dense(64))\n",
    "model.add(Dense(1))\n",
    "model.compile(loss = 'mean_squared_error', optimizer = 'adam')"
   ]
  },
  {
   "cell_type": "code",
   "execution_count": 17,
   "id": "486777c5",
   "metadata": {},
   "outputs": [
    {
     "name": "stdout",
     "output_type": "stream",
     "text": [
      "Model: \"sequential\"\n",
      "_________________________________________________________________\n",
      "Layer (type)                 Output Shape              Param #   \n",
      "=================================================================\n",
      "lstm (LSTM)                  (None, 128)               67072     \n",
      "_________________________________________________________________\n",
      "dense (Dense)                (None, 64)                8256      \n",
      "_________________________________________________________________\n",
      "dense_1 (Dense)              (None, 1)                 65        \n",
      "=================================================================\n",
      "Total params: 75,393\n",
      "Trainable params: 75,393\n",
      "Non-trainable params: 0\n",
      "_________________________________________________________________\n"
     ]
    }
   ],
   "source": [
    "model.summary()"
   ]
  },
  {
   "cell_type": "code",
   "execution_count": 18,
   "id": "64edbc6e",
   "metadata": {},
   "outputs": [
    {
     "name": "stdout",
     "output_type": "stream",
     "text": [
      "Epoch 1/25\n",
      "97/97 [==============================] - 1s 1ms/step - loss: 0.0113\n",
      "Epoch 2/25\n",
      "97/97 [==============================] - 0s 1ms/step - loss: 0.0038\n",
      "Epoch 3/25\n",
      "97/97 [==============================] - 0s 1ms/step - loss: 0.0033\n",
      "Epoch 4/25\n",
      "97/97 [==============================] - 0s 1ms/step - loss: 0.0039\n",
      "Epoch 5/25\n",
      "97/97 [==============================] - 0s 1ms/step - loss: 0.0029\n",
      "Epoch 6/25\n",
      "97/97 [==============================] - 0s 1ms/step - loss: 0.0030\n",
      "Epoch 7/25\n",
      "97/97 [==============================] - 0s 1ms/step - loss: 0.0024\n",
      "Epoch 8/25\n",
      "97/97 [==============================] - 0s 1ms/step - loss: 0.0029\n",
      "Epoch 9/25\n",
      "97/97 [==============================] - 0s 1ms/step - loss: 0.0031\n",
      "Epoch 10/25\n",
      "97/97 [==============================] - 0s 1ms/step - loss: 0.0027\n",
      "Epoch 11/25\n",
      "97/97 [==============================] - 0s 1ms/step - loss: 0.0027\n",
      "Epoch 12/25\n",
      "97/97 [==============================] - 0s 1ms/step - loss: 0.0028\n",
      "Epoch 13/25\n",
      "97/97 [==============================] - 0s 1ms/step - loss: 0.0031\n",
      "Epoch 14/25\n",
      "97/97 [==============================] - 0s 1ms/step - loss: 0.0035\n",
      "Epoch 15/25\n",
      "97/97 [==============================] - 0s 1ms/step - loss: 0.0024\n",
      "Epoch 16/25\n",
      "97/97 [==============================] - 0s 1ms/step - loss: 0.0023\n",
      "Epoch 17/25\n",
      "97/97 [==============================] - 0s 1ms/step - loss: 0.0025\n",
      "Epoch 18/25\n",
      "97/97 [==============================] - 0s 1ms/step - loss: 0.0025\n",
      "Epoch 19/25\n",
      "97/97 [==============================] - 0s 1ms/step - loss: 0.0024\n",
      "Epoch 20/25\n",
      "97/97 [==============================] - 0s 1ms/step - loss: 0.0022\n",
      "Epoch 21/25\n",
      "97/97 [==============================] - 0s 1ms/step - loss: 0.0027\n",
      "Epoch 22/25\n",
      "97/97 [==============================] - 0s 1ms/step - loss: 0.0023\n",
      "Epoch 23/25\n",
      "97/97 [==============================] - 0s 1ms/step - loss: 0.0023\n",
      "Epoch 24/25\n",
      "97/97 [==============================] - 0s 1ms/step - loss: 0.0025\n",
      "Epoch 25/25\n",
      "97/97 [==============================] - 0s 1ms/step - loss: 0.0023\n"
     ]
    },
    {
     "data": {
      "text/plain": [
       "<keras.callbacks.History at 0x2dc7ba4b400>"
      ]
     },
     "execution_count": 18,
     "metadata": {},
     "output_type": "execute_result"
    }
   ],
   "source": [
    "model.fit(X_train, y_train, epochs = 25, batch_size =1)"
   ]
  },
  {
   "cell_type": "code",
   "execution_count": 19,
   "id": "7758cf6f",
   "metadata": {},
   "outputs": [],
   "source": [
    "y_prediction = model.predict(X_test)"
   ]
  },
  {
   "cell_type": "code",
   "execution_count": 20,
   "id": "629d39d9",
   "metadata": {},
   "outputs": [],
   "source": [
    "y_prediction = scaler.inverse_transform(y_prediction)\n",
    "y_test = y_test.reshape(-1, 1)\n",
    "y_test = scaler.inverse_transform(y_test)"
   ]
  },
  {
   "cell_type": "code",
   "execution_count": 22,
   "id": "994e3c72",
   "metadata": {},
   "outputs": [
    {
     "data": {
      "image/png": "[encoded data removed]",
      "text/plain": [
       "<Figure size 432x288 with 1 Axes>"
      ]
     },
     "metadata": {
      "needs_background": "light"
     },
     "output_type": "display_data"
    }
   ],
   "source": [
    "# Looking at results\n",
    "plt.plot(y_test, label = 'Real Number of Passengers')\n",
    "plt.plot(y_prediction, label = 'Predicted Number of Passengers')\n",
    "plt.xlabel('Months')\n",
    "plt.ylabel('Number of Passengers')\n",
    "plt.legend()\n",
    "plt.show()"
   ]
  }
 ],
 "metadata": {
  "kernelspec": {
   "display_name": "Python 3 (ipykernel)",
   "language": "python",
   "name": "python3"
  },
  "language_info": {
   "codemirror_mode": {
    "name": "ipython",
    "version": 3
   },
   "file_extension": ".py",
   "mimetype": "text/x-python",
   "name": "python",
   "nbconvert_exporter": "python",
   "pygments_lexer": "ipython3",
   "version": "3.9.12"
  }
 },
 "nbformat": 4,
 "nbformat_minor": 5
}
